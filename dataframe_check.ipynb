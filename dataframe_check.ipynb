{
 "cells": [
  {
   "cell_type": "code",
   "execution_count": 15,
   "metadata": {},
   "outputs": [],
   "source": [
    "import pandas as pd\n",
    "import datacompy as dc\n",
    "import numpy as np"
   ]
  },
  {
   "cell_type": "code",
   "execution_count": 16,
   "metadata": {},
   "outputs": [],
   "source": [
    "df1 = pd.DataFrame({1:['a','b','c'],2:['c','d','e'],3:['d','e','f']})\n",
    "df2 = pd.DataFrame({1:['a','e','c'],2:['c','d','e']})"
   ]
  },
  {
   "cell_type": "code",
   "execution_count": 17,
   "metadata": {},
   "outputs": [],
   "source": [
    "def test_col_name(df1_col,df2_col):\n",
    "    equal_colname_cnt = list(set(df1_col) & set(df2_col))\n",
    "    print(\"Equal number of columns\",equal_colname_cnt)"
   ]
  },
  {
   "cell_type": "code",
   "execution_count": 18,
   "metadata": {},
   "outputs": [],
   "source": [
    "def test_equal_col_cnt(list_1, list_2):\n",
    "    \"\"\" Check if both the lists are of same length and if yes then compare\n",
    "    sorted versions of both the list to check if both of them are equal\n",
    "    i.e. contain similar elements with same frequency. \"\"\"\n",
    "    if len(list_1) < len(list_2):\n",
    "        print(\"The df2 has higher number of columns than df1\")\n",
    "    elif len(list_1) > len(list_2):\n",
    "        print(\"The df1 has higher number of columns than df2\")\n",
    "    else: \n",
    "        print(\"The df1 and df2 has equal columns\")\n",
    "    return len(list_1),len(list_2)"
   ]
  },
  {
   "cell_type": "code",
   "execution_count": 19,
   "metadata": {},
   "outputs": [],
   "source": [
    "def test_index(df1_index,df2_index):\n",
    "    if df1_index == df2_index:\n",
    "        index_mismatch = 0\n",
    "        print(\"same index values\")\n",
    "    else:\n",
    "        index_mismatch = list(set(df1_index) & set(df2_index))\n",
    "        print(\"index mismatch count\",index_mismatch)\n",
    "    return index_mismatch"
   ]
  },
  {
   "cell_type": "code",
   "execution_count": 20,
   "metadata": {},
   "outputs": [],
   "source": [
    "def test_col_val(df1,df2):\n",
    "    df1_index = list(df1.index)\n",
    "    df2_index = list(df2.index)\n",
    "    df1_col = list(df1.columns)\n",
    "    df2_col = list(df2.columns)\n",
    "    test_index(df1_index,df2_index)\n",
    "    col_cnt_A,col_cnt_B=test_equal_col_cnt(df1_col,df2_col)\n",
    "    col_equal = 0\n",
    "    col_diff = 0\n",
    "    col_check = list(set(df1) & set(df2))\n",
    "    for i in col_check:\n",
    "        comparison_column = np.where(df1[i] == df2[i], True, False)\n",
    "        if all(comparison_column):\n",
    "            col_equal += 1\n",
    "        else:\n",
    "            col_diff += 1\n",
    "    print(\"Total number of columns in df1   :\",col_cnt_A)\n",
    "    print(\"Total number of columns in df2   :\",col_cnt_B)\n",
    "    print(\"total mismatch column            :\",col_diff)\n",
    "    print(\"total equal column match         :\",col_equal)\n",
    "    return col_equal,col_diff\n",
    "    "
   ]
  },
  {
   "cell_type": "code",
   "execution_count": 21,
   "metadata": {},
   "outputs": [
    {
     "name": "stdout",
     "output_type": "stream",
     "text": [
      "same index values\n",
      "The df1 has higher number of columns than df2\n",
      "Total number of columns in df1   : 3\n",
      "Total number of columns in df2   : 2\n",
      "total mismatch column            : 1\n",
      "total equal column match         : 1\n"
     ]
    },
    {
     "data": {
      "text/plain": [
       "(1, 1)"
      ]
     },
     "execution_count": 21,
     "metadata": {},
     "output_type": "execute_result"
    }
   ],
   "source": [
    "test_col_val(df1,df2)"
   ]
  },
  {
   "cell_type": "code",
   "execution_count": 22,
   "metadata": {},
   "outputs": [],
   "source": [
    "def test_equal_row_cnt(list_1, list_2):\n",
    "    \"\"\" Check if both the lists are of same length and if yes then compare\n",
    "    sorted versions of both the list to check if both of them are equal\n",
    "    i.e. contain similar elements with same frequency. \"\"\"\n",
    "    if len(list_1) < len(list_2):\n",
    "         print(\"The df2 has higher number of rows than df1\")\n",
    "    elif len(list_1) > len(list_2):\n",
    "         print(\"The df1 has higher number of rows than df2\")\n",
    "    else: \n",
    "        print(\"The df1 and df2 has equal rows\")\n",
    "    return len(list_1),len(list_2)"
   ]
  },
  {
   "cell_type": "code",
   "execution_count": 23,
   "metadata": {},
   "outputs": [],
   "source": [
    "def test_row_val(A, B):\n",
    "    count = 0\n",
    "    rowA_valcnt = sum( [ len(listElem) for listElem in A[0]])\n",
    "    rowB_valcnt = sum( [ len(listElem) for listElem in B[0]])\n",
    "    \"\"\" Check if both the lists are of same length and if yes then compare\n",
    "    sorted versions of both the list to check if both of them are equal\n",
    "    i.e. contain similar elements with same frequency. \"\"\"\n",
    "    row_cnt_A,row_cnt_B = test_equal_row_cnt(A,B)\n",
    "    print(\"Total number of rows in df1   :\",row_cnt_A)\n",
    "    print(\"Total number of rows in df2   :\",row_cnt_B)\n",
    "    if sorted(A) == sorted(B):\n",
    "        print(\"The df has equal now of row values\")\n",
    "    elif sorted(A) != sorted(B) and rowA_valcnt == rowB_valcnt:\n",
    "        for i in range(len(A)):\n",
    "            B[i]\n",
    "            A[i]\n",
    "            if A[i] == B[i]: continue\n",
    "            print(f'Differences in row{i}:', end='\\n')\n",
    "            for j in range(len(A[i])):\n",
    "                if A[i][j] != B[i][j]:\n",
    "                    count += 1\n",
    "                    print(f'    in col {j}: A = {A[i][j]}, B = {B[i][j]}', end='\\n')\n",
    "    \n",
    "    elif sorted(A) != sorted(B) and rowA_valcnt <= rowB_valcnt:\n",
    "#         print(\"Less in A\")\n",
    "        print(\"Total mismatch in row values  :\",rowB_valcnt)\n",
    "    elif sorted(A) != sorted(B) and rowA_valcnt >= rowB_valcnt:\n",
    "#         print(\"Less in B\")\n",
    "        print(\"Total mismatch in row values  :\",rowA_valcnt)\n",
    "        "
   ]
  },
  {
   "cell_type": "code",
   "execution_count": 24,
   "metadata": {},
   "outputs": [],
   "source": [
    "res1 = df1.values.tolist()\n",
    "res2 = df2.values.tolist()"
   ]
  },
  {
   "cell_type": "code",
   "execution_count": 25,
   "metadata": {},
   "outputs": [
    {
     "name": "stdout",
     "output_type": "stream",
     "text": [
      "The df1 and df2 has equal rows\n",
      "Total number of rows in df1   : 3\n",
      "Total number of rows in df2   : 3\n",
      "Total mismatch in row values  : 3\n"
     ]
    }
   ],
   "source": [
    "test_row_val(res1,res2)"
   ]
  },
  {
   "cell_type": "code",
   "execution_count": null,
   "metadata": {},
   "outputs": [],
   "source": []
  },
  {
   "cell_type": "code",
   "execution_count": null,
   "metadata": {},
   "outputs": [],
   "source": []
  }
 ],
 "metadata": {
  "kernelspec": {
   "display_name": "Python 3",
   "language": "python",
   "name": "python3"
  },
  "language_info": {
   "codemirror_mode": {
    "name": "ipython",
    "version": 3
   },
   "file_extension": ".py",
   "mimetype": "text/x-python",
   "name": "python",
   "nbconvert_exporter": "python",
   "pygments_lexer": "ipython3",
   "version": "3.8.3"
  }
 },
 "nbformat": 4,
 "nbformat_minor": 4
}
